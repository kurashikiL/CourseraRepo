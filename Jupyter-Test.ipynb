{
 "cells": [
  {
   "cell_type": "markdown",
   "id": "70450700-ed1b-446a-8a1e-63f66c93cbd4",
   "metadata": {},
   "source": [
    "<h1> My Jupyter Notebook on IBM Watson Studio"
   ]
  },
  {
   "cell_type": "markdown",
   "id": "b7e8b8fe-ad97-4f9a-ab2e-9bc8085fc532",
   "metadata": {},
   "source": [
    "**Leandro Godoi Kurashiki**\n",
    "<br>Data Scientist Jr"
   ]
  },
  {
   "cell_type": "markdown",
   "id": "1b62d5f9-1cf2-4b10-801c-527a5b647ab4",
   "metadata": {},
   "source": [
    "*I am interested in data science because it's a technology that can transform the world.*"
   ]
  },
  {
   "cell_type": "markdown",
   "id": "7012e034-b0b6-4308-9a83-ac9763f6ff40",
   "metadata": {},
   "source": [
    "<h3> The code below reverses the input text"
   ]
  },
  {
   "cell_type": "code",
   "execution_count": 7,
   "id": "66664ac1-622b-4209-9289-d173b953c49f",
   "metadata": {},
   "outputs": [
    {
     "data": {
      "text/plain": [
       "'dlrow olleH'"
      ]
     },
     "execution_count": 7,
     "metadata": {},
     "output_type": "execute_result"
    }
   ],
   "source": [
    "def reverse(text):\n",
    "    return text[::-1]\n",
    "\n",
    "reverse('Hello world')"
   ]
  },
  {
   "cell_type": "markdown",
   "id": "a618716f-bf4d-4060-9671-03c6d2ff4b7f",
   "metadata": {},
   "source": [
    "***\n",
    "- Rice\n",
    "- Beans\n",
    "- Cheese\n",
    "***\n",
    "1. One Piece\n",
    "2. Berserk\n",
    "***\n",
    "| ID | Name | Country |"
   ]
  },
  {
   "cell_type": "code",
   "execution_count": null,
   "id": "005e393b-3230-41ae-9d52-bbfd403e4bc9",
   "metadata": {},
   "outputs": [],
   "source": []
  }
 ],
 "metadata": {
  "kernelspec": {
   "display_name": "Python",
   "language": "python",
   "name": "conda-env-python-py"
  },
  "language_info": {
   "codemirror_mode": {
    "name": "ipython",
    "version": 3
   },
   "file_extension": ".py",
   "mimetype": "text/x-python",
   "name": "python",
   "nbconvert_exporter": "python",
   "pygments_lexer": "ipython3",
   "version": "3.7.12"
  }
 },
 "nbformat": 4,
 "nbformat_minor": 5
}
